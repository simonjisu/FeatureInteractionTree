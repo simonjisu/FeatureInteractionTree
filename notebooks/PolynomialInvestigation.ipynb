{
 "cells": [
  {
   "cell_type": "code",
   "execution_count": 2,
   "metadata": {},
   "outputs": [],
   "source": [
    "import numpy as np\n",
    "import pandas as pd\n",
    "from PolynomialEvaluation import get_performance_decrease"
   ]
  },
  {
   "cell_type": "code",
   "execution_count": 6,
   "metadata": {},
   "outputs": [],
   "source": [
    "X_train, X_test = np.random.rand(50, 3), np.random.rand(10, 3)\n",
    "y_train, y_test = np.random.rand(50, 1), np.random.rand(10, 1)\n"
   ]
  },
  {
   "cell_type": "code",
   "execution_count": 7,
   "metadata": {},
   "outputs": [],
   "source": [
    "X_train = pd.DataFrame(X_train, columns=[\"A\", \"B\", \"C\"])\n",
    "X_test = pd.DataFrame(X_test, columns=[\"A\", \"B\", \"C\"])"
   ]
  },
  {
   "cell_type": "code",
   "execution_count": 8,
   "metadata": {},
   "outputs": [],
   "source": [
    "interaction_dict = {1: [\"A+B\"], 2: [\"A+B+C\"]}"
   ]
  },
  {
   "cell_type": "code",
   "execution_count": 10,
   "metadata": {},
   "outputs": [
    {
     "name": "stdout",
     "output_type": "stream",
     "text": [
      "For base, performance reduction was 0.021433705430265765\n"
     ]
    },
    {
     "data": {
      "text/plain": [
       "0.021433705430265765"
      ]
     },
     "execution_count": 10,
     "metadata": {},
     "output_type": "execute_result"
    }
   ],
   "source": [
    "get_performance_decrease(X_train, y_train, X_test, y_test, interaction_dict, 2, \"base\")"
   ]
  },
  {
   "cell_type": "code",
   "execution_count": null,
   "metadata": {},
   "outputs": [],
   "source": []
  }
 ],
 "metadata": {
  "interpreter": {
   "hash": "6743cac728d7d3f7692f98abc97f1ccf1d22fab5dde215eb15cbe843ec756c51"
  },
  "kernelspec": {
   "display_name": "Python 3.10.4 ('shap')",
   "language": "python",
   "name": "python3"
  },
  "language_info": {
   "codemirror_mode": {
    "name": "ipython",
    "version": 3
   },
   "file_extension": ".py",
   "mimetype": "text/x-python",
   "name": "python",
   "nbconvert_exporter": "python",
   "pygments_lexer": "ipython3",
   "version": "3.10.4"
  },
  "orig_nbformat": 4
 },
 "nbformat": 4,
 "nbformat_minor": 2
}
