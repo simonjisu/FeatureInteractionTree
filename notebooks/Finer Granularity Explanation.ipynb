{
 "cells": [
  {
   "cell_type": "code",
   "execution_count": null,
   "id": "3092e25c",
   "metadata": {},
   "outputs": [],
   "source": [
    "import sys\n",
    "from pathlib import Path\n",
    "\n",
    "main_path = Path().absolute().parent\n",
    "sys.path.append(str(main_path))\n",
    "\n",
    "import seaborn as sns\n",
    "import matplotlib.pyplot as plt\n",
    "import itertools\n",
    "import shap\n",
    "import numpy as np\n",
    "import pandas as pd\n",
    "from IPython.display import display\n",
    "\n",
    "from fge import Dataset, ModelBuilder, TreeBuilder\n",
    "shap.initjs()"
   ]
  },
  {
   "cell_type": "markdown",
   "id": "aabb81c9",
   "metadata": {},
   "source": [
    "# Cache"
   ]
  },
  {
   "cell_type": "code",
   "execution_count": null,
   "id": "763ac8ab",
   "metadata": {},
   "outputs": [],
   "source": [
    "import pickle\n",
    "import os\n",
    "from collections import defaultdict\n",
    "from tqdm.notebook import tqdm\n",
    "\n",
    "def load_cache(cache_path, dataset_names):\n",
    "    cache = defaultdict()\n",
    "    system = '_win' if os.name == 'nt' else ''\n",
    "    for ds_name in dataset_names:\n",
    "        with (cache_path / f'{ds_name}{system}.pickle').open('rb') as file:\n",
    "            res = pickle.load(file)\n",
    "        cache[ds_name] = res\n",
    "        # dataset = cache[ds_name]['dataset']\n",
    "        # explainer = cache[ds_name]['explainer']\n",
    "        # data = dataset.data['X_train']\n",
    "        # sv = explainer.shap_values(data)\n",
    "        # cache[ds_name]['shap_values'] = sv\n",
    "    return cache\n",
    "dataset_names = ['titanic', 'adult', 'boston', 'california']\n",
    "cache = load_cache(Path('../cache').resolve() / 'onehot_nointercept', dataset_names=dataset_names)\n",
    "\n",
    "score_method_list = ['abs', 'abs_interaction', 'ratio']\n",
    "n_select_scores_list = [5, 10]\n",
    "n_select_gap_list = [5, 10]\n",
    "nodes_to_run_method_list = ['random', 'sort', 'full']\n",
    "filter_method_list = ['random', 'sort', 'prob']\n",
    "exps = list(itertools.product(\n",
    "    score_method_list, \n",
    "    n_select_scores_list,\n",
    "    n_select_gap_list, \n",
    "    nodes_to_run_method_list, \n",
    "    filter_method_list\n",
    "))"
   ]
  },
  {
   "cell_type": "code",
   "execution_count": null,
   "id": "1800a3a4",
   "metadata": {},
   "outputs": [],
   "source": [
    "exp_name = 'abs_5_5_sort_prob'\n",
    "ds_name = 'titanic'"
   ]
  },
  {
   "cell_type": "code",
   "execution_count": null,
   "id": "10e07276",
   "metadata": {},
   "outputs": [],
   "source": [
    "cache[ds_name]['trees'][exp_name]"
   ]
  },
  {
   "cell_type": "code",
   "execution_count": null,
   "id": "5495d969",
   "metadata": {},
   "outputs": [],
   "source": [
    "tree_gaps = []\n",
    "prog_bar = tqdm(total=len(dataset_names)*len(exps))\n",
    "for ds_name in dataset_names:\n",
    "    dataset = cache[ds_name]['dataset']\n",
    "    for e in exps:\n",
    "        exp_name = '_'.join(map(lambda x: str(x), e))\n",
    "        # get tree\n",
    "        # tree = cache[ds_name]['trees'][exp_name]['t'][-1]\n",
    "        gaps = cache[ds_name]['trees'][exp_name]['gaps']\n",
    "        # img\n",
    "        # img = tree.show_tree(dataset.feature_names)\n",
    "        # all_tree_data[ds_name]['img'][exp_name] = img\n",
    "        # gaps\n",
    "        for i, g in gaps:\n",
    "            tree_gaps.append( (ds_name, exp_name, i, g) )\n",
    "        # prog_bar\n",
    "        prog_bar.update(1)\n",
    "prog_bar.close()\n",
    "df = pd.DataFrame(tree_gaps, columns=['dataset', 'exp_name', 'step', 'gaps'])\n",
    "df.to_csv(Path('../cache').resolve() / 'all_results.csv', encoding='utf-8', index=False)"
   ]
  },
  {
   "cell_type": "code",
   "execution_count": null,
   "id": "4e115352",
   "metadata": {},
   "outputs": [],
   "source": [
    "import seaborn as sns"
   ]
  },
  {
   "cell_type": "code",
   "execution_count": null,
   "id": "4f89c8c8",
   "metadata": {},
   "outputs": [],
   "source": [
    "sns.lineplot(x='step', y='gaps', hue='exp_name', data=df_draw)"
   ]
  },
  {
   "cell_type": "code",
   "execution_count": null,
   "id": "1ef69547",
   "metadata": {},
   "outputs": [],
   "source": [
    "ds_name= 'adult'\n",
    "dataset = cache[ds_name]['dataset']\n",
    "siv = cache[ds_name]['siv']\n",
    "shap_values = cache[ds_name]['shap_values']\n",
    "explainer = cache[ds_name]['explainer']\n",
    "features = dataset.data['X_train']\n",
    "shap.initjs()"
   ]
  },
  {
   "cell_type": "code",
   "execution_count": null,
   "id": "251cbc2f",
   "metadata": {},
   "outputs": [],
   "source": [
    "shap.force_plot(explainer.expected_value, shap_values[:1000], features.iloc[:1000])"
   ]
  },
  {
   "cell_type": "code",
   "execution_count": null,
   "id": "d3b06c07",
   "metadata": {},
   "outputs": [],
   "source": [
    "dataset.data['X_train']"
   ]
  },
  {
   "cell_type": "code",
   "execution_count": null,
   "id": "2db3a489",
   "metadata": {},
   "outputs": [],
   "source": [
    "# from fge.dataset import ames_house_prices\n",
    "# dataset = ames_house_prices(data_home='../data', as_frame=True, display=False)\n",
    "\n",
    "seed = 8\n",
    "dataset = Dataset(dataset_name='ames', data_folder='../data', seed=seed)\n",
    "model_builder = ModelBuilder()\n",
    "results = model_builder.train(dataset, eta=0.1, max_depth=8, subsample=1.0, seed=seed, num_rounds=300)\n",
    "\n",
    "performance = results['score']\n",
    "model = results['model']\n",
    "print(f'test performance is {performance:.4f}')\n",
    "\n",
    "tree_builder = TreeBuilder(model, dataset, original_score=performance)"
   ]
  },
  {
   "cell_type": "code",
   "execution_count": null,
   "id": "993e2f5c",
   "metadata": {},
   "outputs": [],
   "source": [
    "group_id = None\n",
    "shap_interactions = tree_builder.shap_interaction_values(group_id=group_id)"
   ]
  },
  {
   "cell_type": "code",
   "execution_count": null,
   "id": "d850d081",
   "metadata": {},
   "outputs": [],
   "source": [
    "# get tree from all train dataset\n",
    "trees = tree_builder.build(\n",
    "    score_method='abs_interaction', \n",
    "    shap_interactions=shap_interactions, \n",
    "    n_select_scores=10,  # select nodes_to_run & keys to filter \n",
    "    n_select_gap=5, \n",
    "    max_iter=35,\n",
    "    nodes_to_run_method='random',  # random / sort / full\n",
    "    filter_method='random',  # random / sort / prob\n",
    "    rt_only_best=True,\n",
    "    verbose=False,\n",
    "    thres_random=0.25\n",
    ")\n",
    "for tree in trees:\n",
    "    img = tree.show_tree(dataset.feature_names)\n",
    "    display(img)"
   ]
  },
  {
   "cell_type": "code",
   "execution_count": null,
   "id": "631d7ce4",
   "metadata": {},
   "outputs": [],
   "source": [
    "seed = 8\n",
    "dataset = Dataset(dataset_name='titanic', data_folder='../data', seed=seed)\n",
    "model_builder = ModelBuilder()\n",
    "results = model_builder.train(dataset, eta=0.1, max_depth=8, subsample=1.0, seed=seed, num_rounds=100)\n",
    "\n",
    "performance = results['score']\n",
    "model = results['model']\n",
    "print(f'test performance is {performance:.4f}')\n",
    "\n",
    "tree_builder = TreeBuilder(model, dataset, original_score=performance)"
   ]
  },
  {
   "cell_type": "code",
   "execution_count": null,
   "id": "a6b3061b",
   "metadata": {},
   "outputs": [],
   "source": [
    "group_id = None\n",
    "shap_interactions = tree_builder.shap_interaction_values(group_id=group_id)"
   ]
  },
  {
   "cell_type": "code",
   "execution_count": null,
   "id": "bb518385",
   "metadata": {},
   "outputs": [],
   "source": [
    "shap_values = tree_builder.explainer(dataset.data['X_train'])"
   ]
  },
  {
   "cell_type": "code",
   "execution_count": null,
   "id": "39120e53",
   "metadata": {},
   "outputs": [],
   "source": [
    "from fge.dataset import titanic\n",
    "data_id = 0\n",
    "i = dataset.data['X_train'].iloc[data_id].name\n",
    "d = titanic(data_home=Path('../data').resolve() / 'titanic', as_frame=True, display=True)\n",
    "\n",
    "X = d['data']\n",
    "y = d['target']\n",
    "feature_names = X.columns\n",
    "sample = X.loc[i]\n",
    "sample = pd.DataFrame(sample).rename(columns={78: f'ID=78 / Survived:{bool(y[i])}'})\n",
    "sample"
   ]
  },
  {
   "cell_type": "code",
   "execution_count": null,
   "id": "bbf704bf",
   "metadata": {},
   "outputs": [],
   "source": [
    "tree_builder.explainer.expected_value"
   ]
  },
  {
   "cell_type": "code",
   "execution_count": null,
   "id": "367267fe",
   "metadata": {},
   "outputs": [],
   "source": [
    "shap_interactions[data_id].sum(1)"
   ]
  },
  {
   "cell_type": "code",
   "execution_count": null,
   "id": "a25998cf",
   "metadata": {},
   "outputs": [],
   "source": [
    "import matplotlib.gridspec as gridspec\n",
    "\n",
    "df = pd.DataFrame(shap_interactions[data_id], index=feature_names, columns=feature_names)\n",
    "\n",
    "fig = plt.figure(figsize=(10, 6))\n",
    "\n",
    "gs1 = gridspec.GridSpec(1, 4)\n",
    "ax1 = fig.add_subplot(gs1[0:3])\n",
    "ax2 = fig.add_subplot(gs1[3])\n",
    "sns.heatmap(df, cmap='coolwarm', annot=True, fmt='.3f', ax=ax1)\n",
    "ax2.axis('tight')\n",
    "ax2.axis('off')\n",
    "ax2.table(cellText=sample.values, colLabels=sample.columns, loc='center', rowLabels=sample.index)\n",
    "fig.suptitle(f'SHAP Interaction Values from Titanic Survival Dataset(Sample Number={i})', fontsize=16)\n",
    "plt.tight_layout()\n",
    "plt.show()"
   ]
  },
  {
   "cell_type": "code",
   "execution_count": null,
   "id": "4ff0f320",
   "metadata": {},
   "outputs": [],
   "source": [
    "shap.summary_plot(shap_interactions.sum(2), dataset.data['X_train'])"
   ]
  },
  {
   "cell_type": "code",
   "execution_count": null,
   "id": "864b77c0",
   "metadata": {},
   "outputs": [],
   "source": [
    "shap.summary_plot(shap_interactions, dataset.data['X_train'])"
   ]
  },
  {
   "cell_type": "code",
   "execution_count": null,
   "id": "d1f39b8f",
   "metadata": {},
   "outputs": [],
   "source": [
    "# get tree from all train dataset\n",
    "trees = tree_builder.build(\n",
    "    score_method='abs', \n",
    "    shap_interactions=shap_interactions, \n",
    "    n_select_scores=5,  # select nodes_to_run & keys to filter \n",
    "    n_select_gap=5, \n",
    "    max_iter=None,\n",
    "    nodes_to_run_method='random',  # random / sort / full\n",
    "    filter_method='prob',  # random / sort / prob\n",
    "    rt_only_best=True,\n",
    "    verbose=False,\n",
    "    thres_random=0.5\n",
    ")\n",
    "for tree in trees:\n",
    "    img = tree.show_tree(dataset.feature_names)\n",
    "    display(img)"
   ]
  },
  {
   "cell_type": "code",
   "execution_count": null,
   "id": "ffdddb7e",
   "metadata": {},
   "outputs": [],
   "source": [
    "tree_builder.infos[2]['nodes_to_run']"
   ]
  },
  {
   "cell_type": "code",
   "execution_count": null,
   "id": "698371f4",
   "metadata": {},
   "outputs": [],
   "source": [
    "import statsmodels.api as sm"
   ]
  },
  {
   "cell_type": "code",
   "execution_count": null,
   "id": "e55d9638",
   "metadata": {},
   "outputs": [],
   "source": [
    "from fge.functions import *\n",
    "from fge.utils import flatten\n",
    "from fge.fitter import PolyFitter\n",
    "from fge.interaction_tree import ShapInteractionTree\n",
    "\n",
    "from typing import Dict, Any, List\n",
    "from copy import deepcopy\n",
    "from collections import defaultdict\n",
    "from tqdm import tqdm\n",
    "from anytree import Node, TreeError\n",
    "from sklearn.linear_model import LinearRegression, LogisticRegression\n",
    "from sklearn.preprocessing import PolynomialFeatures, OneHotEncoder, StandardScaler, OrdinalEncoder, FunctionTransformer, LabelBinarizer\n",
    "from sklearn.compose import make_column_selector as selector\n",
    "from sklearn.compose import ColumnTransformer\n",
    "\n",
    "n_select_scores=5  # select nodes_to_run & keys to filter \n",
    "n_select_gap=5\n",
    "nodes_to_run_method='random'\n",
    "filter_method='prob'\n",
    "siv_scores = tree_builder.score_methods['abs'](shap_interactions, True)\n",
    "data = dataset.data\n",
    "\n",
    "k = 3\n",
    "prev_nodes_to_run = deepcopy(tree_builder.infos[k-1]['nodes_to_run'])\n",
    "prev_nodes = deepcopy(tree_builder.infos[k-1]['nodes'])\n",
    "\n",
    "# nodes_to_run = prev_nodes_to_run.pop(0)\n",
    "# nodes = prev_nodes.pop(0)\n",
    "\n",
    "i = 0\n",
    "nodes_to_run = prev_nodes_to_run[i]\n",
    "nodes = prev_nodes[i]"
   ]
  },
  {
   "cell_type": "code",
   "execution_count": null,
   "id": "855c5c73",
   "metadata": {},
   "outputs": [],
   "source": [
    "scores = tree_builder.get_scores(siv_scores, nodes_to_run)\n",
    "filtered_keys = tree_builder.filter_scores(scores, n_select_scores)\n",
    "\n",
    "for cmbs in filtered_keys:\n",
    "    combined_keys = list(filter(lambda x: isinstance(x, tuple), nodes.keys()))\n",
    "    combined_keys_history = set()\n",
    "    list(flatten(combined_keys, res=combined_keys_history))\n",
    "    combined_keys_history = list(combined_keys_history)\n",
    "    trials = combined_keys_history + [cmbs]\n",
    "    gap = tree_builder.polyfitter.get_interaction_gap(trials)\n",
    "    # all_gaps.append((gap, cmbs, deepcopy(nodes), summary))\n",
    "    # if len(all_gaps) > n_select_gap:\n",
    "    #     new_gaps = np.array(list(map(lambda x: x[0], all_gaps)))\n",
    "    #     all_gaps = [all_gaps[i] for i in new_gaps.argsort() if i != n_select_gap]"
   ]
  },
  {
   "cell_type": "code",
   "execution_count": null,
   "id": "f94de9df",
   "metadata": {},
   "outputs": [],
   "source": [
    "from sklearn.pipeline import make_pipeline\n",
    "import statsmodels.api as sm\n",
    "\n",
    "feature_names = data['X_train'].columns\n",
    "\n",
    "def get_new_X(X_original, trials): \n",
    "    X = X_original.copy()\n",
    "    for cmbs in trials:\n",
    "        c_names = [feature_names[i] for i in flatten(cmbs)]\n",
    "        X['+'.join(c_names)] = X.loc[:, c_names].prod(1)\n",
    "\n",
    "    return X\n",
    "\n",
    "def get_preprocessor(X):\n",
    "    numerical_columns_selector = selector(dtype_include=np.float64, dtype_exclude=object)\n",
    "    categorical_columns_selector = selector(dtype_include=np.int64)#pd.CategoricalDtype)\n",
    "    numerical_columns = numerical_columns_selector(X)\n",
    "    categorical_columns = categorical_columns_selector(X)\n",
    "    categorical_preprocessor = OneHotEncoder(verbose=True, drop='first', handle_unknown='ignore', sparse=True) # FunctionTransformer(lambda x: x)\n",
    "    numerical_preprocessor = StandardScaler()\n",
    "    preprocessor = ColumnTransformer([\n",
    "        ('onehot', categorical_preprocessor, categorical_columns),\n",
    "        ('standard', numerical_preprocessor, numerical_columns)\n",
    "    ])\n",
    "    feature_names = categorical_columns + numerical_columns\n",
    "    return preprocessor, feature_names "
   ]
  },
  {
   "cell_type": "code",
   "execution_count": null,
   "id": "62816eea",
   "metadata": {},
   "outputs": [],
   "source": [
    "X_train = get_new_X(data['X_train'], trials)\n",
    "X_test = get_new_X(data['X_test'], trials)\n",
    "y_train = data['y_train']\n",
    "y_test = data['y_test']\n",
    "preprocessor, _ = get_preprocessor(X=X_train)\n",
    "model = make_pipeline(preprocessor, LogisticRegression())\n",
    "model.fit(X_train, y_train)\n",
    "y_pred = model.predict(X_test)\n",
    "y_pred, y_test"
   ]
  },
  {
   "cell_type": "code",
   "execution_count": null,
   "id": "e25674c3",
   "metadata": {},
   "outputs": [],
   "source": [
    "X_train_sm = preprocessor.fit_transform(X_train)\n",
    "X_test_sm = preprocessor.transform(X_test)"
   ]
  },
  {
   "cell_type": "code",
   "execution_count": null,
   "id": "012089ee",
   "metadata": {},
   "outputs": [],
   "source": [
    "f_names = preprocessor.get_feature_names_out(X_train.columns)\n",
    "f_names = [f.split('__')[1] for f in f_names]"
   ]
  },
  {
   "cell_type": "code",
   "execution_count": null,
   "id": "937f9e24",
   "metadata": {},
   "outputs": [],
   "source": [
    "f_names"
   ]
  },
  {
   "cell_type": "code",
   "execution_count": null,
   "id": "6794ce23",
   "metadata": {},
   "outputs": [],
   "source": [
    "X_train_sm = pd.DataFrame(X_train_sm.toarray(), index=X_train.index, columns=f_names)\n",
    "# m = sm.Logit(y_train, sm.add_constant(X_train_sm)).fit()"
   ]
  },
  {
   "cell_type": "code",
   "execution_count": null,
   "id": "c378e0cc",
   "metadata": {},
   "outputs": [],
   "source": []
  },
  {
   "cell_type": "code",
   "execution_count": null,
   "id": "558de2d8",
   "metadata": {},
   "outputs": [],
   "source": [
    "preprocessor, feature_names = get_preprocessor(X_train)"
   ]
  },
  {
   "cell_type": "code",
   "execution_count": null,
   "id": "30f4a831",
   "metadata": {},
   "outputs": [],
   "source": [
    "X_train = preprocessor.fit_transform(X)\n",
    "print(X_train.shape)\n",
    "X_train = pd.DataFrame(X_train, index=X.index, columns=feature_names)\n",
    "y_train = dataset.data['y_train']"
   ]
  },
  {
   "cell_type": "code",
   "execution_count": null,
   "id": "4adcb0c4",
   "metadata": {},
   "outputs": [],
   "source": []
  },
  {
   "cell_type": "code",
   "execution_count": null,
   "id": "45f7a5f6",
   "metadata": {},
   "outputs": [],
   "source": [
    "m = LogisticRegression().fit(X_train, y_train)"
   ]
  },
  {
   "cell_type": "code",
   "execution_count": null,
   "id": "64bbe289",
   "metadata": {},
   "outputs": [],
   "source": [
    "m.predict(X_test)"
   ]
  },
  {
   "cell_type": "code",
   "execution_count": null,
   "id": "dd301fd0",
   "metadata": {},
   "outputs": [],
   "source": [
    "print(m.summary())"
   ]
  },
  {
   "cell_type": "code",
   "execution_count": null,
   "id": "14c4d6e5",
   "metadata": {},
   "outputs": [],
   "source": [
    "X_train = self.preprocessor.fit_transform(self.data['X_train'])\n",
    "self.X_train = pd.DataFrame(X_train, index=self.data['X_train'].index, columns=self.feature_names)"
   ]
  },
  {
   "cell_type": "code",
   "execution_count": null,
   "id": "66a843b4",
   "metadata": {},
   "outputs": [],
   "source": []
  },
  {
   "cell_type": "code",
   "execution_count": null,
   "id": "3a278817",
   "metadata": {},
   "outputs": [],
   "source": [
    "for i, (nodes_to_run, nodes) in enumerate(zip(prev_nodes_to_run, prev_nodes)):\n",
    "    scores = tree_builder.get_scores(siv_scores, nodes_to_run)\n",
    "    filtered_keys = tree_builder.filter_scores(scores, n_select_scores)\n",
    "    for cmbs in filtered_keys:\n",
    "        combined_keys = list(filter(lambda x: isinstance(x, tuple), nodes.keys()))\n",
    "        combined_keys_history = set()\n",
    "        list(flatten(combined_keys, res=combined_keys_history))\n",
    "        combined_keys_history = list(combined_keys_history)\n",
    "        # trials = list(tree_builder.feature_names) + combined_keys_history + [cmbs]\n",
    "        trials = combined_keys_history + [cmbs]\n",
    "        # gap = tree_builder.polyfitter.get_interaction_gap(trials)\n",
    "        break\n",
    "    break\n",
    "        # print(f'{cmbs}: {gap}')"
   ]
  },
  {
   "cell_type": "code",
   "execution_count": null,
   "id": "996a4820",
   "metadata": {},
   "outputs": [],
   "source": [
    "trials"
   ]
  },
  {
   "cell_type": "code",
   "execution_count": null,
   "id": "23fd461c",
   "metadata": {},
   "outputs": [],
   "source": [
    "# fitter = tree_builder.polyfitter\n",
    "feature_names = data['X_train'].columns"
   ]
  },
  {
   "cell_type": "markdown",
   "id": "344c19c5",
   "metadata": {},
   "source": [
    "# Open ML"
   ]
  },
  {
   "cell_type": "markdown",
   "id": "febaa5c6",
   "metadata": {},
   "source": [
    "# Adult"
   ]
  },
  {
   "cell_type": "code",
   "execution_count": null,
   "id": "517876ec",
   "metadata": {},
   "outputs": [],
   "source": [
    "seed = 8\n",
    "dataset = Dataset(dataset_name='adult', data_folder='../data', seed=seed)\n",
    "model_builder = ModelBuilder()\n",
    "results = model_builder.train(dataset, eta=0.3, max_depth=8, subsample=1.0, seed=seed, num_rounds=200)\n",
    "\n",
    "performance = results['score']\n",
    "model = results['model']\n",
    "print(f'test performance is {performance:.4f}')\n",
    "\n",
    "tree_builder = TreeBuilder(model, dataset, original_score=performance)"
   ]
  },
  {
   "cell_type": "code",
   "execution_count": null,
   "id": "170fb1ed",
   "metadata": {},
   "outputs": [],
   "source": [
    "group_id = None\n",
    "shap_interactions = tree_builder.shap_interaction_values(group_id=group_id)"
   ]
  },
  {
   "cell_type": "code",
   "execution_count": null,
   "id": "804226c0",
   "metadata": {},
   "outputs": [],
   "source": [
    "# get tree from all train dataset\n",
    "tree = tree_builder.build(\n",
    "    score_method='abs', \n",
    "    shap_interactions=shap_interactions, \n",
    "    n_select_scores=10,\n",
    "    n_select_gap=10, \n",
    "    max_iter=8,\n",
    "    nodes_to_run_method='random',  # random / sort / full\n",
    "    filter_method='random',  # random / sort / prob\n",
    "    rt_only_best=False,\n",
    "    verbose=False\n",
    ")"
   ]
  },
  {
   "cell_type": "code",
   "execution_count": null,
   "id": "444c6221",
   "metadata": {},
   "outputs": [],
   "source": [
    "for t in tree:\n",
    "    img = t[0].show_tree(dataset.feature_names)\n",
    "    display(img)"
   ]
  },
  {
   "cell_type": "markdown",
   "id": "e3021ad2",
   "metadata": {},
   "source": [
    "---"
   ]
  },
  {
   "cell_type": "markdown",
   "id": "e7ff94ba",
   "metadata": {},
   "source": [
    "## Group with labels equals to 0"
   ]
  },
  {
   "cell_type": "code",
   "execution_count": null,
   "id": "618fb4dc",
   "metadata": {},
   "outputs": [],
   "source": [
    "# get tree from group 0\n",
    "group_id = 0\n",
    "siv_adult_g0 = tree_builder.shap_interaction_values(group_id=group_id)"
   ]
  },
  {
   "cell_type": "code",
   "execution_count": null,
   "id": "88354a13",
   "metadata": {},
   "outputs": [],
   "source": [
    "tree = tree_builder.build(\n",
    "    score_method='abs', \n",
    "    shap_interactions=siv_adult_g0, \n",
    "    n_select_scores=5,\n",
    "    n_select_gap=5, \n",
    "    max_iter=None,\n",
    "    nodes_to_run_method='full',  # random / sort / full\n",
    "    filter_method='prob',  # random / sort / prob\n",
    "    rt_only_best=False,\n",
    "    verbose=False\n",
    ")\n",
    "img = tree.show_tree(feature_names=dataset.feature_names)"
   ]
  },
  {
   "cell_type": "code",
   "execution_count": null,
   "id": "4f79a0e0",
   "metadata": {},
   "outputs": [],
   "source": [
    "display(img)"
   ]
  },
  {
   "cell_type": "markdown",
   "id": "e7ff94ba",
   "metadata": {},
   "source": [
    "## Group with labels equals to 1"
   ]
  },
  {
   "cell_type": "code",
   "execution_count": null,
   "id": "618fb4dc",
   "metadata": {},
   "outputs": [],
   "source": [
    "# get tree from group 0\n",
    "group_id = 1\n",
    "siv_adult_g1 = tree_builder.shap_interaction_values(group_id=group_id)"
   ]
  },
  {
   "cell_type": "code",
   "execution_count": null,
   "id": "88354a13",
   "metadata": {},
   "outputs": [],
   "source": [
    "tree = tree_builder.build(\n",
    "    score_method='abs', \n",
    "    shap_interactions=siv_adult_g1, \n",
    "    n_select_scores=5,\n",
    "    n_select_gap=5, \n",
    "    max_iter=None,\n",
    "    nodes_to_run_method='full',  # random / sort / full\n",
    "    filter_method='prob',  # random / sort / prob\n",
    "    rt_only_best=False,\n",
    "    verbose=False\n",
    ")\n",
    "img = tree.show_tree(feature_names=dataset.feature_names)"
   ]
  },
  {
   "cell_type": "code",
   "execution_count": null,
   "id": "755fd381",
   "metadata": {},
   "outputs": [],
   "source": [
    "display(img)"
   ]
  },
  {
   "cell_type": "markdown",
   "id": "a987aba4",
   "metadata": {},
   "source": [
    "# California"
   ]
  },
  {
   "cell_type": "code",
   "execution_count": 7,
   "id": "0d18d9f4",
   "metadata": {},
   "outputs": [
    {
     "name": "stdout",
     "output_type": "stream",
     "text": [
      "[0]\ttest-rmse:1.78215\n",
      "[30]\ttest-rmse:0.62916\n",
      "[60]\ttest-rmse:0.59442\n",
      "[90]\ttest-rmse:0.58981\n",
      "[120]\ttest-rmse:0.58856\n",
      "[150]\ttest-rmse:0.58792\n",
      "[153]\ttest-rmse:0.58805\n",
      "test performance is 0.7452\n"
     ]
    }
   ],
   "source": [
    "seed = 8\n",
    "dataset = Dataset(dataset_name='california', data_folder='../data', seed=seed)\n",
    "model_builder = ModelBuilder()\n",
    "results = model_builder.train(dataset, eta=0.1, max_depth=4, subsample=1.0, seed=seed, num_rounds=1000)\n",
    "\n",
    "performance = results['score']\n",
    "model = results['model']\n",
    "print(f'test performance is {performance:.4f}')\n",
    "\n",
    "tree_builder = TreeBuilder(model, dataset, original_score=performance)"
   ]
  },
  {
   "cell_type": "code",
   "execution_count": null,
   "id": "171c53eb",
   "metadata": {},
   "outputs": [],
   "source": [
    "# get tree from group 0\n",
    "group_id = 0\n",
    "siv_cali_g0 = tree_builder.shap_interaction_values(group_id=group_id)"
   ]
  },
  {
   "cell_type": "code",
   "execution_count": null,
   "id": "19db17a0",
   "metadata": {},
   "outputs": [],
   "source": [
    "tree = tree_builder.build(\n",
    "    score_method='abs', \n",
    "    shap_interactions=siv_cali_g0, \n",
    "    n_select_scores=5,\n",
    "    n_select_gap=5, \n",
    "    max_iter=None,\n",
    "    nodes_to_run_method='full',  # random / sort / full\n",
    "    filter_method='prob',  # random / sort / prob\n",
    "    rt_only_best=False,\n",
    "    verbose=False\n",
    ")\n",
    "img = tree[0][0].show_tree(feature_names=dataset.feature_names)\n",
    "img"
   ]
  },
  {
   "cell_type": "code",
   "execution_count": null,
   "id": "e0aa42cf",
   "metadata": {},
   "outputs": [],
   "source": [
    "sns.histplot(dataset[group_id]['y_train'])"
   ]
  },
  {
   "cell_type": "code",
   "execution_count": null,
   "id": "57b0dbd2",
   "metadata": {},
   "outputs": [],
   "source": [
    "display(img)"
   ]
  },
  {
   "cell_type": "code",
   "execution_count": null,
   "id": "c7affa20",
   "metadata": {},
   "outputs": [],
   "source": [
    "# get tree from group 3\n",
    "group_id = 3\n",
    "siv_cali_g3 = tree_builder.shap_interaction_values(group_id=group_id)"
   ]
  },
  {
   "cell_type": "code",
   "execution_count": null,
   "id": "12c92f97",
   "metadata": {},
   "outputs": [],
   "source": [
    "tree = tree_builder.build(\n",
    "    score_method='abs', \n",
    "    shap_interactions=siv_cali_g3, \n",
    "    n_select_scores=5,\n",
    "    n_select_gap=5, \n",
    "    max_iter=None,\n",
    "    nodes_to_run_method='full',  # random / sort / full\n",
    "    filter_method='prob',  # random / sort / prob\n",
    "    rt_only_best=False,\n",
    "    verbose=False\n",
    ")\n",
    "img = tree.show_tree(feature_names=dataset.feature_names)"
   ]
  },
  {
   "cell_type": "code",
   "execution_count": null,
   "id": "302c2360",
   "metadata": {},
   "outputs": [],
   "source": [
    "sns.histplot(dataset[group_id]['y_train'])"
   ]
  },
  {
   "cell_type": "code",
   "execution_count": null,
   "id": "0be1be67",
   "metadata": {},
   "outputs": [],
   "source": [
    "display(img)"
   ]
  },
  {
   "cell_type": "markdown",
   "id": "90cbe6f8",
   "metadata": {},
   "source": [
    "# Boston"
   ]
  },
  {
   "cell_type": "code",
   "execution_count": null,
   "id": "98856d7f",
   "metadata": {},
   "outputs": [],
   "source": [
    "dataset.data['X_train'].columns"
   ]
  },
  {
   "cell_type": "code",
   "execution_count": null,
   "id": "189afaba",
   "metadata": {},
   "outputs": [],
   "source": [
    "seed = 8\n",
    "dataset = Dataset(dataset_name='boston', data_folder='../data', seed=seed)\n",
    "model_builder = ModelBuilder()\n",
    "results = model_builder.train(dataset, eta=0.1, max_depth=8, subsample=1.0, seed=seed, num_rounds=200)\n",
    "\n",
    "performance = results['score']\n",
    "model = results['model']\n",
    "print(f'test performance is {performance:.4f}')\n",
    "\n",
    "tree_builder = TreeBuilder(model, dataset, original_score=performance)"
   ]
  },
  {
   "cell_type": "markdown",
   "id": "24ee579b",
   "metadata": {},
   "source": [
    "* CRIM - per capita crime rate by town\n",
    "* ZN - proportion of residential land zoned for lots over 25,000 sq.ft.\n",
    "* INDUS - proportion of non-retail business acres per town.\n",
    "* CHAS - Charles River dummy variable (1 if tract bounds river; 0 otherwise)\n",
    "* NOX - nitric oxides concentration (parts per 10 million)\n",
    "* RM - average number of rooms per dwelling\n",
    "* AGE - proportion of owner-occupied units built prior to 1940\n",
    "* DIS - weighted distances to five Boston employment centres\n",
    "* RAD - index of accessibility to radial highways\n",
    "* TAX - full-value property-tax rate per $10,000\n",
    "* PTRATIO - pupil-teacher ratio by town\n",
    "* B - 1000(Bk - 0.63)^2 where Bk is the proportion of blacks by town\n",
    "* LSTAT - % lower status of the population\n",
    "* MEDV - Median value of owner-occupied homes in $1000's"
   ]
  },
  {
   "cell_type": "code",
   "execution_count": null,
   "id": "db9b3d00",
   "metadata": {},
   "outputs": [],
   "source": [
    "# get tree from group 0\n",
    "group_id = 0\n",
    "siv_bos_g0 = tree_builder.shap_interaction_values(group_id=group_id)"
   ]
  },
  {
   "cell_type": "code",
   "execution_count": null,
   "id": "e7084605",
   "metadata": {},
   "outputs": [],
   "source": [
    "sns.histplot(dataset[group_id]['y_train'])"
   ]
  },
  {
   "cell_type": "code",
   "execution_count": null,
   "id": "55a1da9d",
   "metadata": {},
   "outputs": [],
   "source": [
    "tree = tree_builder.build(\n",
    "    score_method='abs', \n",
    "    shap_interactions=siv_bos_g0, \n",
    "    n_select_scores=5,\n",
    "    n_select_gap=5, \n",
    "    max_iter=None,\n",
    "    nodes_to_run_method='full',  # random / sort / full\n",
    "    filter_method='prob',  # random / sort / prob\n",
    "    rt_only_best=False,\n",
    "    verbose=False\n",
    ")\n",
    "img = tree.show_tree(feature_names=dataset.feature_names)\n",
    "display(img)"
   ]
  },
  {
   "cell_type": "code",
   "execution_count": null,
   "id": "e0e0d1d8",
   "metadata": {},
   "outputs": [],
   "source": [
    "# get tree from group 3\n",
    "group_id = 3\n",
    "siv_bos_g3 = tree_builder.shap_interaction_values(group_id=group_id)"
   ]
  },
  {
   "cell_type": "code",
   "execution_count": null,
   "id": "b4193183",
   "metadata": {},
   "outputs": [],
   "source": [
    "sns.histplot(dataset[group_id]['y_train'])"
   ]
  },
  {
   "cell_type": "code",
   "execution_count": null,
   "id": "d22b0831",
   "metadata": {},
   "outputs": [],
   "source": [
    "tree = tree_builder.build(\n",
    "    score_method='abs', \n",
    "    shap_interactions=siv_bos_g3, \n",
    "    n_select_scores=5,\n",
    "    n_select_gap=5, \n",
    "    max_iter=None,\n",
    "    nodes_to_run_method='full',  # random / sort / full\n",
    "    filter_method='prob',  # random / sort / prob\n",
    "    rt_only_best=False,\n",
    "    verbose=False\n",
    ")\n",
    "img = tree.show_tree(feature_names=dataset.feature_names)\n",
    "display(img)"
   ]
  },
  {
   "cell_type": "markdown",
   "id": "3f55cc5e",
   "metadata": {},
   "source": [
    "# Titanic"
   ]
  },
  {
   "cell_type": "markdown",
   "id": "248debda",
   "metadata": {},
   "source": [
    "---\n",
    "\n",
    "# Not ready yet"
   ]
  },
  {
   "cell_type": "markdown",
   "id": "7a3b470d",
   "metadata": {},
   "source": [
    "# Crime"
   ]
  },
  {
   "cell_type": "code",
   "execution_count": null,
   "id": "8ad9bf16",
   "metadata": {},
   "outputs": [],
   "source": [
    "seed = 8\n",
    "dataset = Dataset(dataset_name='crime', data_folder='../data', seed=seed)\n",
    "model_builder = ModelBuilder()\n",
    "results = model_builder.train(dataset, eta=0.3, max_depth=8, subsample=1.0, seed=seed, num_rounds=400)\n",
    "\n",
    "performance = results['score']\n",
    "model = results['model']\n",
    "print(f'test performance is {performance:.4f}')\n",
    "\n",
    "tree_builder = TreeBuilder(model, dataset, original_score=performance)"
   ]
  },
  {
   "cell_type": "code",
   "execution_count": null,
   "id": "1845ae35",
   "metadata": {},
   "outputs": [],
   "source": [
    "# get tree from group 0\n",
    "group_id = 0\n",
    "shap_interactions = tree_builder.shap_interaction_values(group_id=group_id)"
   ]
  },
  {
   "cell_type": "code",
   "execution_count": null,
   "id": "9dff3fd7",
   "metadata": {},
   "outputs": [],
   "source": [
    "sns.histplot(dataset[group_id]['y_train'])"
   ]
  },
  {
   "cell_type": "code",
   "execution_count": null,
   "id": "96816d8a",
   "metadata": {},
   "outputs": [],
   "source": [
    "tree = tree_builder.build(\n",
    "    score_method='abs', \n",
    "    shap_interactions=shap_interactions, \n",
    "    n_select_scores=5,\n",
    "    n_select_performance=5, \n",
    "    max_iter=None,\n",
    "    initialize=None,\n",
    "    rt_only_best=True\n",
    ")\n",
    "img = tree.show_tree(feature_names=dataset.feature_names)\n",
    "display(img)"
   ]
  },
  {
   "cell_type": "code",
   "execution_count": null,
   "id": "685d978a",
   "metadata": {},
   "outputs": [],
   "source": [
    "len(list(tree_builder.infos[97]['nodes'][0].keys()))"
   ]
  },
  {
   "cell_type": "markdown",
   "id": "d784f69b",
   "metadata": {},
   "source": [
    "# nhanesi"
   ]
  },
  {
   "cell_type": "code",
   "execution_count": null,
   "id": "102bf57e",
   "metadata": {},
   "outputs": [],
   "source": [
    "seed = 8\n",
    "dataset = Dataset(dataset_name='nhanesi', data_folder='../data', seed=seed)\n",
    "model_builder = ModelBuilder()\n",
    "results = model_builder.train(dataset, eta=0.05, max_depth=8, subsample=1.0, seed=seed, num_rounds=400)\n",
    "\n",
    "performance = results['score']\n",
    "model = results['model']\n",
    "print(f'test performance is {performance:.4f}')\n",
    "\n",
    "tree_builder = TreeBuilder(model, dataset, original_score=performance)"
   ]
  },
  {
   "cell_type": "code",
   "execution_count": null,
   "id": "9b3e6f79",
   "metadata": {},
   "outputs": [],
   "source": [
    "from sklearn.preprocessing import PolynomialFeatures\n",
    "import itertools\n",
    "X_train, X_test = dataset.data['X_train'].copy(), dataset.data['X_test'].copy()\n",
    "poly = PolynomialFeatures(2, interaction_only=True, include_bias=True)\n",
    "X_train_full, X_test_full = poly.fit_transform(X_train), poly.fit_transform(X_test)"
   ]
  },
  {
   "cell_type": "code",
   "execution_count": null,
   "id": "fe61ffff",
   "metadata": {},
   "outputs": [],
   "source": [
    "X_train.iloc[:, :3]"
   ]
  },
  {
   "cell_type": "code",
   "execution_count": null,
   "id": "7c88cd66",
   "metadata": {},
   "outputs": [],
   "source": [
    "len(list(itertools.combinations(np.arange(X_train.shape[1]), 2)))"
   ]
  },
  {
   "cell_type": "code",
   "execution_count": null,
   "id": "2a87bd91",
   "metadata": {},
   "outputs": [],
   "source": [
    "X_train_full[:, :3]"
   ]
  },
  {
   "cell_type": "code",
   "execution_count": null,
   "id": "9bc414cf",
   "metadata": {},
   "outputs": [],
   "source": [
    "# get tree from group 0\n",
    "group_id = 0\n",
    "shap_interactions = tree_builder.shap_interaction_values(group_id=group_id)"
   ]
  },
  {
   "cell_type": "code",
   "execution_count": null,
   "id": "b0d33487",
   "metadata": {},
   "outputs": [],
   "source": [
    "tree = tree_builder.build(\n",
    "    score_method='abs', \n",
    "    shap_interactions=shap_interactions, \n",
    "    n_select_scores=5,\n",
    "    n_select_performance=5, \n",
    "    max_iter=25,\n",
    "    initialize='random',\n",
    "    rt_only_best=True\n",
    ")\n",
    "img = tree.show_tree(feature_names=dataset.feature_names)\n",
    "display(img)"
   ]
  },
  {
   "cell_type": "code",
   "execution_count": null,
   "id": "4e9bf683",
   "metadata": {},
   "outputs": [],
   "source": [
    "tree_builder.infos[1]['nodes_to_run'][0][25:]"
   ]
  },
  {
   "cell_type": "markdown",
   "id": "31aba1e7",
   "metadata": {},
   "source": [
    "## Debug"
   ]
  },
  {
   "cell_type": "code",
   "execution_count": null,
   "id": "b159e549",
   "metadata": {},
   "outputs": [],
   "source": [
    "from anytree import Node"
   ]
  },
  {
   "cell_type": "code",
   "execution_count": null,
   "id": "76196dc3",
   "metadata": {},
   "outputs": [],
   "source": [
    "tree_builder.reset_tree(False)\n",
    "k=0\n",
    "g_fn = tree_builder.score_methods['abs']\n",
    "# feature settings\n",
    "\n",
    "if shap_interactions.ndim == 3:\n",
    "    # ndim == 3 case: global tree\n",
    "    build_global = True\n",
    "elif shap_interactions.ndim == 2:\n",
    "    # ndim == 2 case: single tree\n",
    "    build_global = False\n",
    "else:\n",
    "    raise ValueError('number of dimension of `shap_interactions` should be 2 or 3')\n",
    "\n",
    "siv_scores = g_fn(shap_interactions, build_global)\n",
    "max_iter = 10\n",
    "r_diag, c_diag = np.diag_indices(len(tree_builder.feature_names))\n",
    "main_effect = siv_scores[r_diag, c_diag]\n",
    "tree_builder.infos[k]['nodes'] = [dict()]\n",
    "tree_builder.infos[k]['done'] = [set()]\n",
    "for i, name in enumerate(tree_builder.feature_names):\n",
    "    tree_builder.infos[k]['nodes'][0][i] = Node(\n",
    "        name=name, parent=None, score=main_effect[i], interaction=0.0, k=0, drop=0.0\n",
    "    )"
   ]
  },
  {
   "cell_type": "markdown",
   "id": "229c3d63",
   "metadata": {},
   "source": [
    "---"
   ]
  }
 ],
 "metadata": {
  "kernelspec": {
   "display_name": "Python 3.10.4 ('FinerGranularityExplanation-KRKjZpN0')",
   "language": "python",
   "name": "python3"
  },
  "language_info": {
   "codemirror_mode": {
    "name": "ipython",
    "version": 3
   },
   "file_extension": ".py",
   "mimetype": "text/x-python",
   "name": "python",
   "nbconvert_exporter": "python",
   "pygments_lexer": "ipython3",
   "version": "3.10.4"
  },
  "vscode": {
   "interpreter": {
    "hash": "f8181ce642e150f72fa5f0edec3729e37ad3329799e4b3c0cb8c037bf8e5e6b3"
   }
  }
 },
 "nbformat": 4,
 "nbformat_minor": 5
}
