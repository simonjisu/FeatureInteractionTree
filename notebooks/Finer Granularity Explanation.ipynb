{
 "cells": [
  {
   "cell_type": "code",
   "execution_count": null,
   "id": "3092e25c",
   "metadata": {},
   "outputs": [],
   "source": [
    "import sys\n",
    "from pathlib import Path\n",
    "\n",
    "main_path = Path().absolute().parent\n",
    "sys.path.append(str(main_path))\n",
    "\n",
    "import seaborn as sns\n",
    "import matplotlib.pyplot as plt\n",
    "\n",
    "import shap\n",
    "import numpy as np\n",
    "import pandas as pd\n",
    "from IPython.display import display\n",
    "\n",
    "from fge import Dataset, ModelBuilder, TreeBuilder\n",
    "shap.initjs()"
   ]
  },
  {
   "cell_type": "markdown",
   "id": "3f55cc5e",
   "metadata": {},
   "source": [
    "# Titanic"
   ]
  },
  {
   "cell_type": "code",
   "execution_count": null,
   "id": "631d7ce4",
   "metadata": {},
   "outputs": [],
   "source": [
    "seed = 8\n",
    "dataset = Dataset(dataset_name='titanic', data_folder='../data', seed=seed)\n",
    "model_builder = ModelBuilder()\n",
    "results = model_builder.train(dataset, eta=0.1, max_depth=8, subsample=1.0, seed=seed, num_rounds=100)\n",
    "\n",
    "performance = results['score']\n",
    "model = results['model']\n",
    "print(f'test performance is {performance:.4f}')\n",
    "\n",
    "tree_builder = TreeBuilder(model, dataset, original_score=performance)"
   ]
  },
  {
   "cell_type": "code",
   "execution_count": null,
   "id": "a6b3061b",
   "metadata": {},
   "outputs": [],
   "source": [
    "group_id = None\n",
    "shap_interactions = tree_builder.shap_interaction_values(group_id=group_id)"
   ]
  },
  {
   "cell_type": "code",
   "execution_count": null,
   "id": "4ff0f320",
   "metadata": {},
   "outputs": [],
   "source": [
    "shap.summary_plot(shap_interactions.sum(2), dataset.data['X_train'])"
   ]
  },
  {
   "cell_type": "code",
   "execution_count": null,
   "id": "864b77c0",
   "metadata": {},
   "outputs": [],
   "source": [
    "shap.summary_plot(shap_interactions, dataset.data['X_train'])"
   ]
  },
  {
   "cell_type": "code",
   "execution_count": null,
   "id": "d1f39b8f",
   "metadata": {},
   "outputs": [],
   "source": [
    "# get tree from all train dataset\n",
    "tree = tree_builder.build(\n",
    "    score_method='abs', \n",
    "    shap_interactions=shap_interactions, \n",
    "    n_select_scores=10,  # select nodes_to_run & keys to filter \n",
    "    n_select_gain=5, \n",
    "    max_iter=None,\n",
    "    nodes_to_run_method='sort',  # random / sort / full\n",
    "    filter_method='sort',  # random / sort / prob\n",
    "    rt_only_best=True,\n",
    "    verbose=False\n",
    ")\n",
    "img = tree.show_tree(dataset.feature_names)\n",
    "display(img)"
   ]
  },
  {
   "cell_type": "markdown",
   "id": "febaa5c6",
   "metadata": {},
   "source": [
    "# Adult"
   ]
  },
  {
   "cell_type": "code",
   "execution_count": null,
   "id": "517876ec",
   "metadata": {},
   "outputs": [],
   "source": [
    "seed = 8\n",
    "dataset = Dataset(dataset_name='adult', data_folder='../data', seed=seed)\n",
    "model_builder = ModelBuilder()\n",
    "results = model_builder.train(dataset, eta=0.3, max_depth=8, subsample=1.0, seed=seed, num_rounds=200)\n",
    "\n",
    "performance = results['score']\n",
    "model = results['model']\n",
    "print(f'test performance is {performance:.4f}')\n",
    "\n",
    "tree_builder = TreeBuilder(model, dataset, original_score=performance)"
   ]
  },
  {
   "cell_type": "code",
   "execution_count": null,
   "id": "170fb1ed",
   "metadata": {},
   "outputs": [],
   "source": [
    "group_id = None\n",
    "shap_interactions = tree_builder.shap_interaction_values(group_id=group_id)"
   ]
  },
  {
   "cell_type": "code",
   "execution_count": null,
   "id": "804226c0",
   "metadata": {},
   "outputs": [],
   "source": [
    "# get tree from all train dataset\n",
    "tree = tree_builder.build(\n",
    "    score_method='abs', \n",
    "    shap_interactions=shap_interactions, \n",
    "    n_select_scores=5,\n",
    "    n_select_gain=5, \n",
    "    max_iter=None,\n",
    "    nodes_to_run_method='full',  # random / sort / full\n",
    "    filter_method='prob',  # random / sort / prob\n",
    "    rt_only_best=False,\n",
    "    verbose=False\n",
    ")"
   ]
  },
  {
   "cell_type": "code",
   "execution_count": null,
   "id": "444c6221",
   "metadata": {},
   "outputs": [],
   "source": [
    "for t in tree:\n",
    "    img = t.show_tree(dataset.feature_names)\n",
    "    display(img)"
   ]
  },
  {
   "cell_type": "markdown",
   "id": "e3021ad2",
   "metadata": {},
   "source": [
    "---"
   ]
  },
  {
   "cell_type": "markdown",
   "id": "e7ff94ba",
   "metadata": {},
   "source": [
    "## Group with labels equals to 0"
   ]
  },
  {
   "cell_type": "code",
   "execution_count": null,
   "id": "618fb4dc",
   "metadata": {},
   "outputs": [],
   "source": [
    "# get tree from group 0\n",
    "group_id = 0\n",
    "siv_adult_g0 = tree_builder.shap_interaction_values(group_id=group_id)"
   ]
  },
  {
   "cell_type": "code",
   "execution_count": null,
   "id": "88354a13",
   "metadata": {},
   "outputs": [],
   "source": [
    "tree = tree_builder.build(\n",
    "    score_method='abs', \n",
    "    shap_interactions=siv_adult_g0, \n",
    "    n_select_scores=5,\n",
    "    n_select_gain=5, \n",
    "    max_iter=None,\n",
    "    nodes_to_run_method='full',  # random / sort / full\n",
    "    filter_method='prob',  # random / sort / prob\n",
    "    rt_only_best=False,\n",
    "    verbose=False\n",
    ")\n",
    "img = tree.show_tree(feature_names=dataset.feature_names)"
   ]
  },
  {
   "cell_type": "code",
   "execution_count": null,
   "id": "4f79a0e0",
   "metadata": {},
   "outputs": [],
   "source": [
    "display(img)"
   ]
  },
  {
   "cell_type": "markdown",
   "id": "e7ff94ba",
   "metadata": {},
   "source": [
    "## Group with labels equals to 1"
   ]
  },
  {
   "cell_type": "code",
   "execution_count": null,
   "id": "618fb4dc",
   "metadata": {},
   "outputs": [],
   "source": [
    "# get tree from group 0\n",
    "group_id = 1\n",
    "siv_adult_g1 = tree_builder.shap_interaction_values(group_id=group_id)"
   ]
  },
  {
   "cell_type": "code",
   "execution_count": null,
   "id": "88354a13",
   "metadata": {},
   "outputs": [],
   "source": [
    "tree = tree_builder.build(\n",
    "    score_method='abs', \n",
    "    shap_interactions=siv_adult_g1, \n",
    "    n_select_scores=5,\n",
    "    n_select_gain=5, \n",
    "    max_iter=None,\n",
    "    nodes_to_run_method='full',  # random / sort / full\n",
    "    filter_method='prob',  # random / sort / prob\n",
    "    rt_only_best=False,\n",
    "    verbose=False\n",
    ")\n",
    "img = tree.show_tree(feature_names=dataset.feature_names)"
   ]
  },
  {
   "cell_type": "code",
   "execution_count": null,
   "id": "755fd381",
   "metadata": {},
   "outputs": [],
   "source": [
    "display(img)"
   ]
  },
  {
   "cell_type": "markdown",
   "id": "a987aba4",
   "metadata": {},
   "source": [
    "# California"
   ]
  },
  {
   "cell_type": "code",
   "execution_count": null,
   "id": "0d18d9f4",
   "metadata": {},
   "outputs": [],
   "source": [
    "seed = 8\n",
    "dataset = Dataset(dataset_name='california', data_folder='../data', seed=seed)\n",
    "model_builder = ModelBuilder()\n",
    "results = model_builder.train(dataset, eta=0.3, max_depth=8, subsample=1.0, seed=seed, num_rounds=200)\n",
    "\n",
    "performance = results['score']\n",
    "model = results['model']\n",
    "print(f'test performance is {performance:.4f}')\n",
    "\n",
    "tree_builder = TreeBuilder(model, dataset, original_score=performance)"
   ]
  },
  {
   "cell_type": "code",
   "execution_count": null,
   "id": "171c53eb",
   "metadata": {},
   "outputs": [],
   "source": [
    "# get tree from group 0\n",
    "group_id = 0\n",
    "siv_cali_g0 = tree_builder.shap_interaction_values(group_id=group_id)"
   ]
  },
  {
   "cell_type": "code",
   "execution_count": null,
   "id": "19db17a0",
   "metadata": {},
   "outputs": [],
   "source": [
    "tree = tree_builder.build(\n",
    "    score_method='abs', \n",
    "    shap_interactions=siv_cali_g0, \n",
    "    n_select_scores=5,\n",
    "    n_select_gain=5, \n",
    "    max_iter=None,\n",
    "    nodes_to_run_method='full',  # random / sort / full\n",
    "    filter_method='prob',  # random / sort / prob\n",
    "    rt_only_best=False,\n",
    "    verbose=False\n",
    ")\n",
    "img = tree.show_tree(feature_names=dataset.feature_names)"
   ]
  },
  {
   "cell_type": "code",
   "execution_count": null,
   "id": "e0aa42cf",
   "metadata": {},
   "outputs": [],
   "source": [
    "sns.histplot(dataset[group_id]['y_train'])"
   ]
  },
  {
   "cell_type": "code",
   "execution_count": null,
   "id": "57b0dbd2",
   "metadata": {},
   "outputs": [],
   "source": [
    "display(img)"
   ]
  },
  {
   "cell_type": "code",
   "execution_count": null,
   "id": "c7affa20",
   "metadata": {},
   "outputs": [],
   "source": [
    "# get tree from group 3\n",
    "group_id = 3\n",
    "siv_cali_g3 = tree_builder.shap_interaction_values(group_id=group_id)"
   ]
  },
  {
   "cell_type": "code",
   "execution_count": null,
   "id": "12c92f97",
   "metadata": {},
   "outputs": [],
   "source": [
    "tree = tree_builder.build(\n",
    "    score_method='abs', \n",
    "    shap_interactions=siv_cali_g3, \n",
    "    n_select_scores=5,\n",
    "    n_select_gain=5, \n",
    "    max_iter=None,\n",
    "    nodes_to_run_method='full',  # random / sort / full\n",
    "    filter_method='prob',  # random / sort / prob\n",
    "    rt_only_best=False,\n",
    "    verbose=False\n",
    ")\n",
    "img = tree.show_tree(feature_names=dataset.feature_names)"
   ]
  },
  {
   "cell_type": "code",
   "execution_count": null,
   "id": "302c2360",
   "metadata": {},
   "outputs": [],
   "source": [
    "sns.histplot(dataset[group_id]['y_train'])"
   ]
  },
  {
   "cell_type": "code",
   "execution_count": null,
   "id": "0be1be67",
   "metadata": {},
   "outputs": [],
   "source": [
    "display(img)"
   ]
  },
  {
   "cell_type": "markdown",
   "id": "90cbe6f8",
   "metadata": {},
   "source": [
    "# Boston"
   ]
  },
  {
   "cell_type": "code",
   "execution_count": null,
   "id": "189afaba",
   "metadata": {},
   "outputs": [],
   "source": [
    "seed = 8\n",
    "dataset = Dataset(dataset_name='boston', data_folder='../data', seed=seed)\n",
    "model_builder = ModelBuilder()\n",
    "results = model_builder.train(dataset, eta=0.1, max_depth=8, subsample=1.0, seed=seed, num_rounds=200)\n",
    "\n",
    "performance = results['score']\n",
    "model = results['model']\n",
    "print(f'test performance is {performance:.4f}')\n",
    "\n",
    "tree_builder = TreeBuilder(model, dataset, original_score=performance)"
   ]
  },
  {
   "cell_type": "markdown",
   "id": "24ee579b",
   "metadata": {},
   "source": [
    "* CRIM - per capita crime rate by town\n",
    "* ZN - proportion of residential land zoned for lots over 25,000 sq.ft.\n",
    "* INDUS - proportion of non-retail business acres per town.\n",
    "* CHAS - Charles River dummy variable (1 if tract bounds river; 0 otherwise)\n",
    "* NOX - nitric oxides concentration (parts per 10 million)\n",
    "* RM - average number of rooms per dwelling\n",
    "* AGE - proportion of owner-occupied units built prior to 1940\n",
    "* DIS - weighted distances to five Boston employment centres\n",
    "* RAD - index of accessibility to radial highways\n",
    "* TAX - full-value property-tax rate per $10,000\n",
    "* PTRATIO - pupil-teacher ratio by town\n",
    "* B - 1000(Bk - 0.63)^2 where Bk is the proportion of blacks by town\n",
    "* LSTAT - % lower status of the population\n",
    "* MEDV - Median value of owner-occupied homes in $1000's"
   ]
  },
  {
   "cell_type": "code",
   "execution_count": null,
   "id": "db9b3d00",
   "metadata": {},
   "outputs": [],
   "source": [
    "# get tree from group 0\n",
    "group_id = 0\n",
    "siv_bos_g0 = tree_builder.shap_interaction_values(group_id=group_id)"
   ]
  },
  {
   "cell_type": "code",
   "execution_count": null,
   "id": "e7084605",
   "metadata": {},
   "outputs": [],
   "source": [
    "sns.histplot(dataset[group_id]['y_train'])"
   ]
  },
  {
   "cell_type": "code",
   "execution_count": null,
   "id": "55a1da9d",
   "metadata": {},
   "outputs": [],
   "source": [
    "tree = tree_builder.build(\n",
    "    score_method='abs', \n",
    "    shap_interactions=siv_bos_g0, \n",
    "    n_select_scores=5,\n",
    "    n_select_gain=5, \n",
    "    max_iter=None,\n",
    "    nodes_to_run_method='full',  # random / sort / full\n",
    "    filter_method='prob',  # random / sort / prob\n",
    "    rt_only_best=False,\n",
    "    verbose=False\n",
    ")\n",
    "img = tree.show_tree(feature_names=dataset.feature_names)\n",
    "display(img)"
   ]
  },
  {
   "cell_type": "code",
   "execution_count": null,
   "id": "e0e0d1d8",
   "metadata": {},
   "outputs": [],
   "source": [
    "# get tree from group 3\n",
    "group_id = 3\n",
    "siv_bos_g3 = tree_builder.shap_interaction_values(group_id=group_id)"
   ]
  },
  {
   "cell_type": "code",
   "execution_count": null,
   "id": "b4193183",
   "metadata": {},
   "outputs": [],
   "source": [
    "sns.histplot(dataset[group_id]['y_train'])"
   ]
  },
  {
   "cell_type": "code",
   "execution_count": null,
   "id": "d22b0831",
   "metadata": {},
   "outputs": [],
   "source": [
    "tree = tree_builder.build(\n",
    "    score_method='abs', \n",
    "    shap_interactions=siv_bos_g3, \n",
    "    n_select_scores=5,\n",
    "    n_select_gain=5, \n",
    "    max_iter=None,\n",
    "    nodes_to_run_method='full',  # random / sort / full\n",
    "    filter_method='prob',  # random / sort / prob\n",
    "    rt_only_best=False,\n",
    "    verbose=False\n",
    ")\n",
    "img = tree.show_tree(feature_names=dataset.feature_names)\n",
    "display(img)"
   ]
  },
  {
   "cell_type": "markdown",
   "id": "248debda",
   "metadata": {},
   "source": [
    "---\n",
    "\n",
    "# Not ready yet"
   ]
  },
  {
   "cell_type": "markdown",
   "id": "7a3b470d",
   "metadata": {},
   "source": [
    "# Crime"
   ]
  },
  {
   "cell_type": "code",
   "execution_count": null,
   "id": "8ad9bf16",
   "metadata": {},
   "outputs": [],
   "source": [
    "seed = 8\n",
    "dataset = Dataset(dataset_name='crime', data_folder='../data', seed=seed)\n",
    "model_builder = ModelBuilder()\n",
    "results = model_builder.train(dataset, eta=0.3, max_depth=8, subsample=1.0, seed=seed, num_rounds=400)\n",
    "\n",
    "performance = results['score']\n",
    "model = results['model']\n",
    "print(f'test performance is {performance:.4f}')\n",
    "\n",
    "tree_builder = TreeBuilder(model, dataset, original_score=performance)"
   ]
  },
  {
   "cell_type": "code",
   "execution_count": null,
   "id": "1845ae35",
   "metadata": {},
   "outputs": [],
   "source": [
    "# get tree from group 0\n",
    "group_id = 0\n",
    "shap_interactions = tree_builder.shap_interaction_values(group_id=group_id)"
   ]
  },
  {
   "cell_type": "code",
   "execution_count": null,
   "id": "9dff3fd7",
   "metadata": {},
   "outputs": [],
   "source": [
    "sns.histplot(dataset[group_id]['y_train'])"
   ]
  },
  {
   "cell_type": "code",
   "execution_count": null,
   "id": "96816d8a",
   "metadata": {},
   "outputs": [],
   "source": [
    "tree = tree_builder.build(\n",
    "    score_method='abs', \n",
    "    shap_interactions=shap_interactions, \n",
    "    n_select_scores=5,\n",
    "    n_select_performance=5, \n",
    "    max_iter=None,\n",
    "    initialize=None,\n",
    "    rt_only_best=True\n",
    ")\n",
    "img = tree.show_tree(feature_names=dataset.feature_names)\n",
    "display(img)"
   ]
  },
  {
   "cell_type": "code",
   "execution_count": null,
   "id": "685d978a",
   "metadata": {},
   "outputs": [],
   "source": [
    "len(list(tree_builder.infos[97]['nodes'][0].keys()))"
   ]
  },
  {
   "cell_type": "markdown",
   "id": "d784f69b",
   "metadata": {},
   "source": [
    "# nhanesi"
   ]
  },
  {
   "cell_type": "code",
   "execution_count": null,
   "id": "102bf57e",
   "metadata": {},
   "outputs": [],
   "source": [
    "seed = 8\n",
    "dataset = Dataset(dataset_name='nhanesi', data_folder='../data', seed=seed)\n",
    "model_builder = ModelBuilder()\n",
    "results = model_builder.train(dataset, eta=0.05, max_depth=8, subsample=1.0, seed=seed, num_rounds=400)\n",
    "\n",
    "performance = results['score']\n",
    "model = results['model']\n",
    "print(f'test performance is {performance:.4f}')\n",
    "\n",
    "tree_builder = TreeBuilder(model, dataset, original_score=performance)"
   ]
  },
  {
   "cell_type": "code",
   "execution_count": null,
   "id": "9b3e6f79",
   "metadata": {},
   "outputs": [],
   "source": [
    "from sklearn.preprocessing import PolynomialFeatures\n",
    "import itertools\n",
    "X_train, X_test = dataset.data['X_train'].copy(), dataset.data['X_test'].copy()\n",
    "poly = PolynomialFeatures(2, interaction_only=True, include_bias=True)\n",
    "X_train_full, X_test_full = poly.fit_transform(X_train), poly.fit_transform(X_test)"
   ]
  },
  {
   "cell_type": "code",
   "execution_count": null,
   "id": "fe61ffff",
   "metadata": {},
   "outputs": [],
   "source": [
    "X_train.iloc[:, :3]"
   ]
  },
  {
   "cell_type": "code",
   "execution_count": null,
   "id": "7c88cd66",
   "metadata": {},
   "outputs": [],
   "source": [
    "len(list(itertools.combinations(np.arange(X_train.shape[1]), 2)))"
   ]
  },
  {
   "cell_type": "code",
   "execution_count": null,
   "id": "2a87bd91",
   "metadata": {},
   "outputs": [],
   "source": [
    "X_train_full[:, :3]"
   ]
  },
  {
   "cell_type": "code",
   "execution_count": null,
   "id": "9bc414cf",
   "metadata": {},
   "outputs": [],
   "source": [
    "# get tree from group 0\n",
    "group_id = 0\n",
    "shap_interactions = tree_builder.shap_interaction_values(group_id=group_id)"
   ]
  },
  {
   "cell_type": "code",
   "execution_count": null,
   "id": "b0d33487",
   "metadata": {},
   "outputs": [],
   "source": [
    "tree = tree_builder.build(\n",
    "    score_method='abs', \n",
    "    shap_interactions=shap_interactions, \n",
    "    n_select_scores=5,\n",
    "    n_select_performance=5, \n",
    "    max_iter=25,\n",
    "    initialize='random',\n",
    "    rt_only_best=True\n",
    ")\n",
    "img = tree.show_tree(feature_names=dataset.feature_names)\n",
    "display(img)"
   ]
  },
  {
   "cell_type": "code",
   "execution_count": null,
   "id": "4e9bf683",
   "metadata": {},
   "outputs": [],
   "source": [
    "tree_builder.infos[1]['nodes_to_run'][0][25:]"
   ]
  },
  {
   "cell_type": "markdown",
   "id": "31aba1e7",
   "metadata": {},
   "source": [
    "## Debug"
   ]
  },
  {
   "cell_type": "code",
   "execution_count": null,
   "id": "b159e549",
   "metadata": {},
   "outputs": [],
   "source": [
    "from anytree import Node"
   ]
  },
  {
   "cell_type": "code",
   "execution_count": null,
   "id": "76196dc3",
   "metadata": {},
   "outputs": [],
   "source": [
    "tree_builder.reset_tree(False)\n",
    "k=0\n",
    "g_fn = tree_builder.score_methods['abs']\n",
    "# feature settings\n",
    "\n",
    "if shap_interactions.ndim == 3:\n",
    "    # ndim == 3 case: global tree\n",
    "    build_global = True\n",
    "elif shap_interactions.ndim == 2:\n",
    "    # ndim == 2 case: single tree\n",
    "    build_global = False\n",
    "else:\n",
    "    raise ValueError('number of dimension of `shap_interactions` should be 2 or 3')\n",
    "\n",
    "siv_scores = g_fn(shap_interactions, build_global)\n",
    "max_iter = 10\n",
    "r_diag, c_diag = np.diag_indices(len(tree_builder.feature_names))\n",
    "main_effect = siv_scores[r_diag, c_diag]\n",
    "tree_builder.infos[k]['nodes'] = [dict()]\n",
    "tree_builder.infos[k]['done'] = [set()]\n",
    "for i, name in enumerate(tree_builder.feature_names):\n",
    "    tree_builder.infos[k]['nodes'][0][i] = Node(\n",
    "        name=name, parent=None, score=main_effect[i], interaction=0.0, k=0, drop=0.0\n",
    "    )"
   ]
  },
  {
   "cell_type": "markdown",
   "id": "229c3d63",
   "metadata": {},
   "source": [
    "---"
   ]
  }
 ],
 "metadata": {
  "kernelspec": {
   "display_name": "Python 3.10.4 ('FinerGranularityExplanation-KRKjZpN0')",
   "language": "python",
   "name": "python3"
  },
  "language_info": {
   "codemirror_mode": {
    "name": "ipython",
    "version": 3
   },
   "file_extension": ".py",
   "mimetype": "text/x-python",
   "name": "python",
   "nbconvert_exporter": "python",
   "pygments_lexer": "ipython3",
   "version": "3.10.4"
  },
  "vscode": {
   "interpreter": {
    "hash": "f8181ce642e150f72fa5f0edec3729e37ad3329799e4b3c0cb8c037bf8e5e6b3"
   }
  }
 },
 "nbformat": 4,
 "nbformat_minor": 5
}
